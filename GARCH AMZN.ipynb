{
 "cells": [
  {
   "cell_type": "code",
   "execution_count": 14,
   "metadata": {},
   "outputs": [],
   "source": [
    "import pandas as pd\n",
    "import numpy as np\n",
    "import matplotlib.pyplot as plt\n",
    "import seaborn as sns\n",
    "sns.set()\n",
    "import yfinance as yf\n",
    "import math\n",
    "from statsmodels.tsa import stattools\n",
    "from statsmodels.tsa import arima_model"
   ]
  },
  {
   "cell_type": "code",
   "execution_count": 15,
   "metadata": {},
   "outputs": [
    {
     "data": {
      "text/html": [
       "<div>\n",
       "<style scoped>\n",
       "    .dataframe tbody tr th:only-of-type {\n",
       "        vertical-align: middle;\n",
       "    }\n",
       "\n",
       "    .dataframe tbody tr th {\n",
       "        vertical-align: top;\n",
       "    }\n",
       "\n",
       "    .dataframe thead th {\n",
       "        text-align: right;\n",
       "    }\n",
       "</style>\n",
       "<table border=\"1\" class=\"dataframe\">\n",
       "  <thead>\n",
       "    <tr style=\"text-align: right;\">\n",
       "      <th></th>\n",
       "      <th>FB</th>\n",
       "      <th>AMZN</th>\n",
       "      <th>AAPL</th>\n",
       "      <th>NFLX</th>\n",
       "      <th>GOOGL</th>\n",
       "      <th>FB_Ret</th>\n",
       "      <th>AMZN_Ret</th>\n",
       "      <th>AAPL_Ret</th>\n",
       "      <th>NFLX_Ret</th>\n",
       "      <th>GOOGL_Ret</th>\n",
       "    </tr>\n",
       "    <tr>\n",
       "      <th>Date</th>\n",
       "      <th></th>\n",
       "      <th></th>\n",
       "      <th></th>\n",
       "      <th></th>\n",
       "      <th></th>\n",
       "      <th></th>\n",
       "      <th></th>\n",
       "      <th></th>\n",
       "      <th></th>\n",
       "      <th></th>\n",
       "    </tr>\n",
       "  </thead>\n",
       "  <tbody>\n",
       "    <tr>\n",
       "      <th>2012-05-21</th>\n",
       "      <td>34.03</td>\n",
       "      <td>218.11</td>\n",
       "      <td>17.29</td>\n",
       "      <td>10.25</td>\n",
       "      <td>307.36</td>\n",
       "      <td>-0.109861</td>\n",
       "      <td>0.019921</td>\n",
       "      <td>0.058140</td>\n",
       "      <td>0.026026</td>\n",
       "      <td>0.022829</td>\n",
       "    </tr>\n",
       "    <tr>\n",
       "      <th>2012-05-22</th>\n",
       "      <td>31.00</td>\n",
       "      <td>215.33</td>\n",
       "      <td>17.16</td>\n",
       "      <td>9.67</td>\n",
       "      <td>300.70</td>\n",
       "      <td>-0.089039</td>\n",
       "      <td>-0.012746</td>\n",
       "      <td>-0.007519</td>\n",
       "      <td>-0.056585</td>\n",
       "      <td>-0.021668</td>\n",
       "    </tr>\n",
       "    <tr>\n",
       "      <th>2012-05-23</th>\n",
       "      <td>32.00</td>\n",
       "      <td>217.28</td>\n",
       "      <td>17.58</td>\n",
       "      <td>10.27</td>\n",
       "      <td>305.04</td>\n",
       "      <td>0.032258</td>\n",
       "      <td>0.009056</td>\n",
       "      <td>0.024476</td>\n",
       "      <td>0.062048</td>\n",
       "      <td>0.014433</td>\n",
       "    </tr>\n",
       "    <tr>\n",
       "      <th>2012-05-24</th>\n",
       "      <td>33.03</td>\n",
       "      <td>215.24</td>\n",
       "      <td>17.42</td>\n",
       "      <td>10.04</td>\n",
       "      <td>302.13</td>\n",
       "      <td>0.032188</td>\n",
       "      <td>-0.009389</td>\n",
       "      <td>-0.009101</td>\n",
       "      <td>-0.022395</td>\n",
       "      <td>-0.009540</td>\n",
       "    </tr>\n",
       "    <tr>\n",
       "      <th>2012-05-25</th>\n",
       "      <td>31.91</td>\n",
       "      <td>212.89</td>\n",
       "      <td>17.32</td>\n",
       "      <td>10.03</td>\n",
       "      <td>296.06</td>\n",
       "      <td>-0.033909</td>\n",
       "      <td>-0.010918</td>\n",
       "      <td>-0.005741</td>\n",
       "      <td>-0.000996</td>\n",
       "      <td>-0.020091</td>\n",
       "    </tr>\n",
       "    <tr>\n",
       "      <th>...</th>\n",
       "      <td>...</td>\n",
       "      <td>...</td>\n",
       "      <td>...</td>\n",
       "      <td>...</td>\n",
       "      <td>...</td>\n",
       "      <td>...</td>\n",
       "      <td>...</td>\n",
       "      <td>...</td>\n",
       "      <td>...</td>\n",
       "      <td>...</td>\n",
       "    </tr>\n",
       "    <tr>\n",
       "      <th>2021-01-11</th>\n",
       "      <td>256.84</td>\n",
       "      <td>3114.21</td>\n",
       "      <td>128.98</td>\n",
       "      <td>499.10</td>\n",
       "      <td>1756.29</td>\n",
       "      <td>-0.040102</td>\n",
       "      <td>-0.021519</td>\n",
       "      <td>-0.023249</td>\n",
       "      <td>-0.022139</td>\n",
       "      <td>-0.023106</td>\n",
       "    </tr>\n",
       "    <tr>\n",
       "      <th>2021-01-12</th>\n",
       "      <td>251.09</td>\n",
       "      <td>3120.83</td>\n",
       "      <td>128.80</td>\n",
       "      <td>494.25</td>\n",
       "      <td>1737.43</td>\n",
       "      <td>-0.022387</td>\n",
       "      <td>0.002126</td>\n",
       "      <td>-0.001396</td>\n",
       "      <td>-0.009717</td>\n",
       "      <td>-0.010739</td>\n",
       "    </tr>\n",
       "    <tr>\n",
       "      <th>2021-01-13</th>\n",
       "      <td>251.64</td>\n",
       "      <td>3165.89</td>\n",
       "      <td>130.89</td>\n",
       "      <td>507.79</td>\n",
       "      <td>1747.25</td>\n",
       "      <td>0.002190</td>\n",
       "      <td>0.014438</td>\n",
       "      <td>0.016227</td>\n",
       "      <td>0.027395</td>\n",
       "      <td>0.005652</td>\n",
       "    </tr>\n",
       "    <tr>\n",
       "      <th>2021-01-14</th>\n",
       "      <td>245.64</td>\n",
       "      <td>3127.47</td>\n",
       "      <td>128.91</td>\n",
       "      <td>500.86</td>\n",
       "      <td>1730.92</td>\n",
       "      <td>-0.023844</td>\n",
       "      <td>-0.012136</td>\n",
       "      <td>-0.015127</td>\n",
       "      <td>-0.013647</td>\n",
       "      <td>-0.009346</td>\n",
       "    </tr>\n",
       "    <tr>\n",
       "      <th>2021-01-15</th>\n",
       "      <td>251.36</td>\n",
       "      <td>3104.25</td>\n",
       "      <td>127.14</td>\n",
       "      <td>497.98</td>\n",
       "      <td>1727.62</td>\n",
       "      <td>0.023286</td>\n",
       "      <td>-0.007425</td>\n",
       "      <td>-0.013731</td>\n",
       "      <td>-0.005750</td>\n",
       "      <td>-0.001907</td>\n",
       "    </tr>\n",
       "  </tbody>\n",
       "</table>\n",
       "<p>2179 rows × 10 columns</p>\n",
       "</div>"
      ],
      "text/plain": [
       "                FB     AMZN    AAPL    NFLX    GOOGL    FB_Ret  AMZN_Ret  \\\n",
       "Date                                                                       \n",
       "2012-05-21   34.03   218.11   17.29   10.25   307.36 -0.109861  0.019921   \n",
       "2012-05-22   31.00   215.33   17.16    9.67   300.70 -0.089039 -0.012746   \n",
       "2012-05-23   32.00   217.28   17.58   10.27   305.04  0.032258  0.009056   \n",
       "2012-05-24   33.03   215.24   17.42   10.04   302.13  0.032188 -0.009389   \n",
       "2012-05-25   31.91   212.89   17.32   10.03   296.06 -0.033909 -0.010918   \n",
       "...            ...      ...     ...     ...      ...       ...       ...   \n",
       "2021-01-11  256.84  3114.21  128.98  499.10  1756.29 -0.040102 -0.021519   \n",
       "2021-01-12  251.09  3120.83  128.80  494.25  1737.43 -0.022387  0.002126   \n",
       "2021-01-13  251.64  3165.89  130.89  507.79  1747.25  0.002190  0.014438   \n",
       "2021-01-14  245.64  3127.47  128.91  500.86  1730.92 -0.023844 -0.012136   \n",
       "2021-01-15  251.36  3104.25  127.14  497.98  1727.62  0.023286 -0.007425   \n",
       "\n",
       "            AAPL_Ret  NFLX_Ret  GOOGL_Ret  \n",
       "Date                                       \n",
       "2012-05-21  0.058140  0.026026   0.022829  \n",
       "2012-05-22 -0.007519 -0.056585  -0.021668  \n",
       "2012-05-23  0.024476  0.062048   0.014433  \n",
       "2012-05-24 -0.009101 -0.022395  -0.009540  \n",
       "2012-05-25 -0.005741 -0.000996  -0.020091  \n",
       "...              ...       ...        ...  \n",
       "2021-01-11 -0.023249 -0.022139  -0.023106  \n",
       "2021-01-12 -0.001396 -0.009717  -0.010739  \n",
       "2021-01-13  0.016227  0.027395   0.005652  \n",
       "2021-01-14 -0.015127 -0.013647  -0.009346  \n",
       "2021-01-15 -0.013731 -0.005750  -0.001907  \n",
       "\n",
       "[2179 rows x 10 columns]"
      ]
     },
     "execution_count": 15,
     "metadata": {},
     "output_type": "execute_result"
    }
   ],
   "source": [
    "data = pd.read_csv('FAANG.csv',parse_dates=True)\n",
    "data.index = pd.to_datetime(data.Date)\n",
    "data.drop('Date',axis=1,inplace=True)\n",
    "data.dropna(inplace=True)\n",
    "data"
   ]
  },
  {
   "cell_type": "markdown",
   "metadata": {},
   "source": [
    "### Check ARCH Effect"
   ]
  },
  {
   "cell_type": "code",
   "execution_count": 16,
   "metadata": {},
   "outputs": [],
   "source": [
    "def arch(stock,pq):\n",
    "    ############## Split Data #######################\n",
    "    train = data[stock]['2012':'2019']\n",
    "    test = data[stock]['2020']\n",
    "    stock_name = stock.replace('_Ret','')\n",
    "    ############## Check Residue^2  #################\n",
    "    model = arima_model.ARIMA(train,order = pq).fit()\n",
    "    stdresid = model.resid/math.sqrt(model.sigma2)\n",
    "    lbt = stattools.q_stat(stattools.acf(stdresid**2)[1:30],len(stdresid))\n",
    "    wnNumber = lbt[1][-1]\n",
    "    print('Ljung-Box p-value = %.5f'%(wnNumber))\n",
    "    if wnNumber > 0.05:\n",
    "        print('%s is a White Noise'%(stock_name))\n",
    "    else:\n",
    "        print('ARCH Effect Exists')\n",
    "    ##############  ################################"
   ]
  },
  {
   "cell_type": "code",
   "execution_count": 17,
   "metadata": {},
   "outputs": [
    {
     "name": "stderr",
     "output_type": "stream",
     "text": [
      "/Library/Frameworks/Python.framework/Versions/3.8/lib/python3.8/site-packages/statsmodels/tsa/base/tsa_model.py:216: ValueWarning: A date index has been provided, but it has no associated frequency information and so will be ignored when e.g. forecasting.\n",
      "  warnings.warn('A date index has been provided, but it has no'\n"
     ]
    },
    {
     "name": "stdout",
     "output_type": "stream",
     "text": [
      "Ljung-Box p-value = 0.00000\n",
      "ARCH Effect Exists\n"
     ]
    },
    {
     "name": "stderr",
     "output_type": "stream",
     "text": [
      "/Library/Frameworks/Python.framework/Versions/3.8/lib/python3.8/site-packages/statsmodels/tsa/stattools.py:568: FutureWarning: fft=True will become the default in a future version of statsmodels. To suppress this warning, explicitly set fft=False.\n",
      "  warnings.warn(\n"
     ]
    }
   ],
   "source": [
    "arch('AAPL_Ret',(2,0,2))"
   ]
  },
  {
   "cell_type": "code",
   "execution_count": 18,
   "metadata": {},
   "outputs": [
    {
     "name": "stderr",
     "output_type": "stream",
     "text": [
      "/Library/Frameworks/Python.framework/Versions/3.8/lib/python3.8/site-packages/statsmodels/tsa/base/tsa_model.py:216: ValueWarning: A date index has been provided, but it has no associated frequency information and so will be ignored when e.g. forecasting.\n",
      "  warnings.warn('A date index has been provided, but it has no'\n"
     ]
    },
    {
     "name": "stdout",
     "output_type": "stream",
     "text": [
      "Ljung-Box p-value = 0.00420\n",
      "ARCH Effect Exists\n"
     ]
    }
   ],
   "source": [
    "arch('AMZN_Ret',(2,0,1))"
   ]
  },
  {
   "cell_type": "markdown",
   "metadata": {},
   "source": [
    "### NEW TEST ARMA + GARCH\n",
    "ARMA -> Model <br>\n",
    "GARCH -> Volatility (e_t)<br>\n",
    "y = a_0 + a1y_(t-1) + e_t <br>\n",
    "AMZN ARMA -> AMZN = 0.0013 + 0.6299arL1 - 0.0416arL2 - 0.6351maL1"
   ]
  },
  {
   "cell_type": "code",
   "execution_count": 19,
   "metadata": {
    "scrolled": true
   },
   "outputs": [
    {
     "name": "stderr",
     "output_type": "stream",
     "text": [
      "/Library/Frameworks/Python.framework/Versions/3.8/lib/python3.8/site-packages/statsmodels/tsa/base/tsa_model.py:216: ValueWarning: A date index has been provided, but it has no associated frequency information and so will be ignored when e.g. forecasting.\n",
      "  warnings.warn('A date index has been provided, but it has no'\n"
     ]
    },
    {
     "data": {
      "text/html": [
       "<table class=\"simpletable\">\n",
       "<caption>ARMA Model Results</caption>\n",
       "<tr>\n",
       "  <th>Dep. Variable:</th>     <td>AMZN_Ret</td>     <th>  No. Observations:  </th>   <td>1916</td>   \n",
       "</tr>\n",
       "<tr>\n",
       "  <th>Model:</th>            <td>ARMA(2, 1)</td>    <th>  Log Likelihood     </th> <td>4943.415</td> \n",
       "</tr>\n",
       "<tr>\n",
       "  <th>Method:</th>             <td>css-mle</td>     <th>  S.D. of innovations</th>   <td>0.018</td>  \n",
       "</tr>\n",
       "<tr>\n",
       "  <th>Date:</th>          <td>Sun, 17 Jan 2021</td> <th>  AIC                </th> <td>-9876.830</td>\n",
       "</tr>\n",
       "<tr>\n",
       "  <th>Time:</th>              <td>11:09:22</td>     <th>  BIC                </th> <td>-9849.040</td>\n",
       "</tr>\n",
       "<tr>\n",
       "  <th>Sample:</th>                <td>0</td>        <th>  HQIC               </th> <td>-9866.604</td>\n",
       "</tr>\n",
       "<tr>\n",
       "  <th></th>                       <td> </td>        <th>                     </th>     <td> </td>    \n",
       "</tr>\n",
       "</table>\n",
       "<table class=\"simpletable\">\n",
       "<tr>\n",
       "         <td></td>           <th>coef</th>     <th>std err</th>      <th>z</th>      <th>P>|z|</th>  <th>[0.025</th>    <th>0.975]</th>  \n",
       "</tr>\n",
       "<tr>\n",
       "  <th>const</th>          <td>    0.0013</td> <td>    0.000</td> <td>    3.484</td> <td> 0.000</td> <td>    0.001</td> <td>    0.002</td>\n",
       "</tr>\n",
       "<tr>\n",
       "  <th>ar.L1.AMZN_Ret</th> <td>    0.6299</td> <td>    0.285</td> <td>    2.209</td> <td> 0.027</td> <td>    0.071</td> <td>    1.189</td>\n",
       "</tr>\n",
       "<tr>\n",
       "  <th>ar.L2.AMZN_Ret</th> <td>   -0.0416</td> <td>    0.027</td> <td>   -1.554</td> <td> 0.120</td> <td>   -0.094</td> <td>    0.011</td>\n",
       "</tr>\n",
       "<tr>\n",
       "  <th>ma.L1.AMZN_Ret</th> <td>   -0.6351</td> <td>    0.285</td> <td>   -2.227</td> <td> 0.026</td> <td>   -1.194</td> <td>   -0.076</td>\n",
       "</tr>\n",
       "</table>\n",
       "<table class=\"simpletable\">\n",
       "<caption>Roots</caption>\n",
       "<tr>\n",
       "    <td></td>   <th>            Real</th>  <th>         Imaginary</th> <th>         Modulus</th>  <th>        Frequency</th>\n",
       "</tr>\n",
       "<tr>\n",
       "  <th>AR.1</th> <td>           1.8020</td> <td>          +0.0000j</td> <td>           1.8020</td> <td>           0.0000</td>\n",
       "</tr>\n",
       "<tr>\n",
       "  <th>AR.2</th> <td>          13.3341</td> <td>          +0.0000j</td> <td>          13.3341</td> <td>           0.0000</td>\n",
       "</tr>\n",
       "<tr>\n",
       "  <th>MA.1</th> <td>           1.5745</td> <td>          +0.0000j</td> <td>           1.5745</td> <td>           0.0000</td>\n",
       "</tr>\n",
       "</table>"
      ],
      "text/plain": [
       "<class 'statsmodels.iolib.summary.Summary'>\n",
       "\"\"\"\n",
       "                              ARMA Model Results                              \n",
       "==============================================================================\n",
       "Dep. Variable:               AMZN_Ret   No. Observations:                 1916\n",
       "Model:                     ARMA(2, 1)   Log Likelihood                4943.415\n",
       "Method:                       css-mle   S.D. of innovations              0.018\n",
       "Date:                Sun, 17 Jan 2021   AIC                          -9876.830\n",
       "Time:                        11:09:22   BIC                          -9849.040\n",
       "Sample:                             0   HQIC                         -9866.604\n",
       "                                                                              \n",
       "==================================================================================\n",
       "                     coef    std err          z      P>|z|      [0.025      0.975]\n",
       "----------------------------------------------------------------------------------\n",
       "const              0.0013      0.000      3.484      0.000       0.001       0.002\n",
       "ar.L1.AMZN_Ret     0.6299      0.285      2.209      0.027       0.071       1.189\n",
       "ar.L2.AMZN_Ret    -0.0416      0.027     -1.554      0.120      -0.094       0.011\n",
       "ma.L1.AMZN_Ret    -0.6351      0.285     -2.227      0.026      -1.194      -0.076\n",
       "                                    Roots                                    \n",
       "=============================================================================\n",
       "                  Real          Imaginary           Modulus         Frequency\n",
       "-----------------------------------------------------------------------------\n",
       "AR.1            1.8020           +0.0000j            1.8020            0.0000\n",
       "AR.2           13.3341           +0.0000j           13.3341            0.0000\n",
       "MA.1            1.5745           +0.0000j            1.5745            0.0000\n",
       "-----------------------------------------------------------------------------\n",
       "\"\"\""
      ]
     },
     "execution_count": 19,
     "metadata": {},
     "output_type": "execute_result"
    }
   ],
   "source": [
    "amzn_train = data['AMZN_Ret']['2012':'2019']\n",
    "amzn_test = data['AMZN_Ret']['2020']\n",
    "model = arima_model.ARIMA(amzn_train,order=(2,0,1)).fit()\n",
    "model.summary()"
   ]
  },
  {
   "cell_type": "code",
   "execution_count": 20,
   "metadata": {},
   "outputs": [
    {
     "data": {
      "text/html": [
       "<div>\n",
       "<style scoped>\n",
       "    .dataframe tbody tr th:only-of-type {\n",
       "        vertical-align: middle;\n",
       "    }\n",
       "\n",
       "    .dataframe tbody tr th {\n",
       "        vertical-align: top;\n",
       "    }\n",
       "\n",
       "    .dataframe thead th {\n",
       "        text-align: right;\n",
       "    }\n",
       "</style>\n",
       "<table border=\"1\" class=\"dataframe\">\n",
       "  <thead>\n",
       "    <tr style=\"text-align: right;\">\n",
       "      <th></th>\n",
       "      <th>0</th>\n",
       "    </tr>\n",
       "    <tr>\n",
       "      <th>Date</th>\n",
       "      <th></th>\n",
       "    </tr>\n",
       "  </thead>\n",
       "  <tbody>\n",
       "    <tr>\n",
       "      <th>2020-01-02</th>\n",
       "      <td>0.001172</td>\n",
       "    </tr>\n",
       "    <tr>\n",
       "      <th>2020-01-03</th>\n",
       "      <td>0.001249</td>\n",
       "    </tr>\n",
       "    <tr>\n",
       "      <th>2020-01-06</th>\n",
       "      <td>0.001271</td>\n",
       "    </tr>\n",
       "    <tr>\n",
       "      <th>2020-01-07</th>\n",
       "      <td>0.001281</td>\n",
       "    </tr>\n",
       "    <tr>\n",
       "      <th>2020-01-08</th>\n",
       "      <td>0.001287</td>\n",
       "    </tr>\n",
       "    <tr>\n",
       "      <th>...</th>\n",
       "      <td>...</td>\n",
       "    </tr>\n",
       "    <tr>\n",
       "      <th>2020-12-24</th>\n",
       "      <td>0.001294</td>\n",
       "    </tr>\n",
       "    <tr>\n",
       "      <th>2020-12-28</th>\n",
       "      <td>0.001294</td>\n",
       "    </tr>\n",
       "    <tr>\n",
       "      <th>2020-12-29</th>\n",
       "      <td>0.001294</td>\n",
       "    </tr>\n",
       "    <tr>\n",
       "      <th>2020-12-30</th>\n",
       "      <td>0.001294</td>\n",
       "    </tr>\n",
       "    <tr>\n",
       "      <th>2020-12-31</th>\n",
       "      <td>0.001294</td>\n",
       "    </tr>\n",
       "  </tbody>\n",
       "</table>\n",
       "<p>253 rows × 1 columns</p>\n",
       "</div>"
      ],
      "text/plain": [
       "                   0\n",
       "Date                \n",
       "2020-01-02  0.001172\n",
       "2020-01-03  0.001249\n",
       "2020-01-06  0.001271\n",
       "2020-01-07  0.001281\n",
       "2020-01-08  0.001287\n",
       "...              ...\n",
       "2020-12-24  0.001294\n",
       "2020-12-28  0.001294\n",
       "2020-12-29  0.001294\n",
       "2020-12-30  0.001294\n",
       "2020-12-31  0.001294\n",
       "\n",
       "[253 rows x 1 columns]"
      ]
     },
     "execution_count": 20,
     "metadata": {},
     "output_type": "execute_result"
    }
   ],
   "source": [
    "model.forecast(len(amzn_test))[0]\n",
    "stock_forecast = pd.DataFrame(model.forecast(len(amzn_test))[0])\n",
    "stock_forecast.index=data['2020'].index\n",
    "stock_forecast"
   ]
  },
  {
   "cell_type": "markdown",
   "metadata": {},
   "source": [
    "### GARCH\n",
    "r_t = 0.00176 + e_t\n",
    "e_t = sigma_t * u_t\n",
    "sigma_t^2 = 0.000033720 + 0.1e_{t-1}^2 + 0.8sigma_{t-1}^2"
   ]
  },
  {
   "cell_type": "code",
   "execution_count": 21,
   "metadata": {},
   "outputs": [],
   "source": [
    "import datetime as dt\n",
    "import pandas_datareader.data as web\n",
    "from arch import arch_model\n",
    "AMZN_train = data['AMZN_Ret']['2012':'2019']\n",
    "AMZN_test = data['AMZN_Ret']['2020']\n",
    "AMZN = data['AMZN_Ret']\n",
    "am = arch_model(AMZN)"
   ]
  },
  {
   "cell_type": "code",
   "execution_count": 22,
   "metadata": {},
   "outputs": [
    {
     "name": "stdout",
     "output_type": "stream",
     "text": [
      "Iteration:      1,   Func. Count:      6,   Neg. LLF: 1625500234.6985726\n",
      "Iteration:      2,   Func. Count:     18,   Neg. LLF: 4710.473386076303\n",
      "Iteration:      3,   Func. Count:     28,   Neg. LLF: 6253393.6748918295\n",
      "Iteration:      4,   Func. Count:     39,   Neg. LLF: -5035.557101111885\n",
      "Optimization terminated successfully    (Exit mode 0)\n",
      "            Current function value: -5035.5571015675505\n",
      "            Iterations: 8\n",
      "            Function evaluations: 39\n",
      "            Gradient evaluations: 4\n"
     ]
    },
    {
     "name": "stderr",
     "output_type": "stream",
     "text": [
      "/Library/Frameworks/Python.framework/Versions/3.8/lib/python3.8/site-packages/arch/univariate/base.py:292: DataScaleWarning: y is poorly scaled, which may affect convergence of the optimizer when\n",
      "estimating the model parameters. The scale of y is 0.0003372. Parameter\n",
      "estimation work better when this value is between 1 and 1000. The recommended\n",
      "rescaling is 100 * y.\n",
      "\n",
      "This warning can be disabled by either rescaling y before initializing the\n",
      "model or by setting rescale=False.\n",
      "\n",
      "  warnings.warn(\n"
     ]
    }
   ],
   "source": [
    "split_date = dt.datetime(2020,1,2)\n",
    "res = am.fit(last_obs=split_date)"
   ]
  },
  {
   "cell_type": "code",
   "execution_count": 23,
   "metadata": {},
   "outputs": [
    {
     "data": {
      "text/html": [
       "<table class=\"simpletable\">\n",
       "<caption>Constant Mean - GARCH Model Results</caption>\n",
       "<tr>\n",
       "  <th>Dep. Variable:</th>      <td>AMZN_Ret</td>      <th>  R-squared:         </th>  <td>  -0.001</td> \n",
       "</tr>\n",
       "<tr>\n",
       "  <th>Mean Model:</th>       <td>Constant Mean</td>   <th>  Adj. R-squared:    </th>  <td>  -0.001</td> \n",
       "</tr>\n",
       "<tr>\n",
       "  <th>Vol Model:</th>            <td>GARCH</td>       <th>  Log-Likelihood:    </th> <td>   5035.56</td>\n",
       "</tr>\n",
       "<tr>\n",
       "  <th>Distribution:</th>        <td>Normal</td>       <th>  AIC:               </th> <td>  -10063.1</td>\n",
       "</tr>\n",
       "<tr>\n",
       "  <th>Method:</th>        <td>Maximum Likelihood</td> <th>  BIC:               </th> <td>  -10040.9</td>\n",
       "</tr>\n",
       "<tr>\n",
       "  <th></th>                        <td></td>          <th>  No. Observations:  </th>    <td>1916</td>   \n",
       "</tr>\n",
       "<tr>\n",
       "  <th>Date:</th>           <td>Sun, Jan 17 2021</td>  <th>  Df Residuals:      </th>    <td>1912</td>   \n",
       "</tr>\n",
       "<tr>\n",
       "  <th>Time:</th>               <td>11:09:23</td>      <th>  Df Model:          </th>      <td>4</td>    \n",
       "</tr>\n",
       "</table>\n",
       "<table class=\"simpletable\">\n",
       "<caption>Mean Model</caption>\n",
       "<tr>\n",
       "   <td></td>     <th>coef</th>     <th>std err</th>      <th>t</th>       <th>P>|t|</th>     <th>95.0% Conf. Int.</th>   \n",
       "</tr>\n",
       "<tr>\n",
       "  <th>mu</th> <td>1.7610e-03</td> <td>3.994e-04</td> <td>    4.409</td> <td>1.040e-05</td> <td>[9.781e-04,2.544e-03]</td>\n",
       "</tr>\n",
       "</table>\n",
       "<table class=\"simpletable\">\n",
       "<caption>Volatility Model</caption>\n",
       "<tr>\n",
       "      <td></td>        <th>coef</th>     <th>std err</th>      <th>t</th>        <th>P>|t|</th>     <th>95.0% Conf. Int.</th>   \n",
       "</tr>\n",
       "<tr>\n",
       "  <th>omega</th>    <td>3.3720e-05</td> <td>2.438e-06</td> <td>   13.830</td>  <td>1.677e-43</td> <td>[2.894e-05,3.850e-05]</td>\n",
       "</tr>\n",
       "<tr>\n",
       "  <th>alpha[1]</th> <td>    0.1000</td> <td>3.000e-02</td> <td>    3.334</td>  <td>8.562e-04</td>  <td>[4.122e-02,  0.159]</td> \n",
       "</tr>\n",
       "<tr>\n",
       "  <th>beta[1]</th>  <td>    0.8000</td> <td>2.384e-02</td> <td>   33.555</td> <td>7.693e-247</td>   <td>[  0.753,  0.847]</td>  \n",
       "</tr>\n",
       "</table><br/><br/>Covariance estimator: robust"
      ],
      "text/plain": [
       "<class 'statsmodels.iolib.summary.Summary'>\n",
       "\"\"\"\n",
       "                     Constant Mean - GARCH Model Results                      \n",
       "==============================================================================\n",
       "Dep. Variable:               AMZN_Ret   R-squared:                      -0.001\n",
       "Mean Model:             Constant Mean   Adj. R-squared:                 -0.001\n",
       "Vol Model:                      GARCH   Log-Likelihood:                5035.56\n",
       "Distribution:                  Normal   AIC:                          -10063.1\n",
       "Method:            Maximum Likelihood   BIC:                          -10040.9\n",
       "                                        No. Observations:                 1916\n",
       "Date:                Sun, Jan 17 2021   Df Residuals:                     1912\n",
       "Time:                        11:09:23   Df Model:                            4\n",
       "                                 Mean Model                                 \n",
       "============================================================================\n",
       "                 coef    std err          t      P>|t|      95.0% Conf. Int.\n",
       "----------------------------------------------------------------------------\n",
       "mu         1.7610e-03  3.994e-04      4.409  1.040e-05 [9.781e-04,2.544e-03]\n",
       "                              Volatility Model                              \n",
       "============================================================================\n",
       "                 coef    std err          t      P>|t|      95.0% Conf. Int.\n",
       "----------------------------------------------------------------------------\n",
       "omega      3.3720e-05  2.438e-06     13.830  1.677e-43 [2.894e-05,3.850e-05]\n",
       "alpha[1]       0.1000  3.000e-02      3.334  8.562e-04   [4.122e-02,  0.159]\n",
       "beta[1]        0.8000  2.384e-02     33.555 7.693e-247     [  0.753,  0.847]\n",
       "============================================================================\n",
       "\n",
       "Covariance estimator: robust\n",
       "\"\"\""
      ]
     },
     "execution_count": 23,
     "metadata": {},
     "output_type": "execute_result"
    }
   ],
   "source": [
    "res.summary()"
   ]
  },
  {
   "cell_type": "code",
   "execution_count": 24,
   "metadata": {},
   "outputs": [
    {
     "data": {
      "text/plain": [
       "<AxesSubplot:xlabel='Date'>"
      ]
     },
     "execution_count": 24,
     "metadata": {},
     "output_type": "execute_result"
    },
    {
     "data": {
      "image/png": "[encoded data removed]",
      "text/plain": [
       "<Figure size 432x288 with 1 Axes>"
      ]
     },
     "metadata": {},
     "output_type": "display_data"
    }
   ],
   "source": [
    "forecasts = res.forecast(horizon=1, start=split_date)\n",
    "forecasts.variance[split_date:].plot()"
   ]
  },
  {
   "cell_type": "code",
   "execution_count": 25,
   "metadata": {},
   "outputs": [
    {
     "data": {
      "text/html": [
       "<div>\n",
       "<style scoped>\n",
       "    .dataframe tbody tr th:only-of-type {\n",
       "        vertical-align: middle;\n",
       "    }\n",
       "\n",
       "    .dataframe tbody tr th {\n",
       "        vertical-align: top;\n",
       "    }\n",
       "\n",
       "    .dataframe thead th {\n",
       "        text-align: right;\n",
       "    }\n",
       "</style>\n",
       "<table border=\"1\" class=\"dataframe\">\n",
       "  <thead>\n",
       "    <tr style=\"text-align: right;\">\n",
       "      <th></th>\n",
       "      <th>h.1</th>\n",
       "    </tr>\n",
       "    <tr>\n",
       "      <th>Date</th>\n",
       "      <th></th>\n",
       "    </tr>\n",
       "  </thead>\n",
       "  <tbody>\n",
       "    <tr>\n",
       "      <th>2020-01-02</th>\n",
       "      <td>0.000325</td>\n",
       "    </tr>\n",
       "    <tr>\n",
       "      <th>2020-01-03</th>\n",
       "      <td>0.000313</td>\n",
       "    </tr>\n",
       "    <tr>\n",
       "      <th>2020-01-06</th>\n",
       "      <td>0.000301</td>\n",
       "    </tr>\n",
       "    <tr>\n",
       "      <th>2020-01-07</th>\n",
       "      <td>0.000275</td>\n",
       "    </tr>\n",
       "    <tr>\n",
       "      <th>2020-01-08</th>\n",
       "      <td>0.000263</td>\n",
       "    </tr>\n",
       "    <tr>\n",
       "      <th>...</th>\n",
       "      <td>...</td>\n",
       "    </tr>\n",
       "    <tr>\n",
       "      <th>2020-12-24</th>\n",
       "      <td>0.000208</td>\n",
       "    </tr>\n",
       "    <tr>\n",
       "      <th>2020-12-28</th>\n",
       "      <td>0.000311</td>\n",
       "    </tr>\n",
       "    <tr>\n",
       "      <th>2020-12-29</th>\n",
       "      <td>0.000292</td>\n",
       "    </tr>\n",
       "    <tr>\n",
       "      <th>2020-12-30</th>\n",
       "      <td>0.000283</td>\n",
       "    </tr>\n",
       "    <tr>\n",
       "      <th>2020-12-31</th>\n",
       "      <td>0.000272</td>\n",
       "    </tr>\n",
       "  </tbody>\n",
       "</table>\n",
       "<p>253 rows × 1 columns</p>\n",
       "</div>"
      ],
      "text/plain": [
       "                 h.1\n",
       "Date                \n",
       "2020-01-02  0.000325\n",
       "2020-01-03  0.000313\n",
       "2020-01-06  0.000301\n",
       "2020-01-07  0.000275\n",
       "2020-01-08  0.000263\n",
       "...              ...\n",
       "2020-12-24  0.000208\n",
       "2020-12-28  0.000311\n",
       "2020-12-29  0.000292\n",
       "2020-12-30  0.000283\n",
       "2020-12-31  0.000272\n",
       "\n",
       "[253 rows x 1 columns]"
      ]
     },
     "execution_count": 25,
     "metadata": {},
     "output_type": "execute_result"
    }
   ],
   "source": [
    "f = forecasts.variance\n",
    "f['2020']"
   ]
  },
  {
   "cell_type": "markdown",
   "metadata": {},
   "source": [
    "### Combine"
   ]
  },
  {
   "cell_type": "code",
   "execution_count": 26,
   "metadata": {},
   "outputs": [
    {
     "data": {
      "text/plain": [
       "<matplotlib.legend.Legend at 0x7fabfc7f8eb0>"
      ]
     },
     "execution_count": 26,
     "metadata": {},
     "output_type": "execute_result"
    },
    {
     "data": {
      "image/png": "[encoded data removed]",
      "text/plain": [
       "<Figure size 1080x432 with 1 Axes>"
      ]
     },
     "metadata": {},
     "output_type": "display_data"
    }
   ],
   "source": [
    "fig = plt.figure(figsize=(15,6))\n",
    "ax1 = fig.add_subplot()\n",
    "ax1.plot(AMZN_test,label='AMZN_Ret')\n",
    "ax1.plot(np.sqrt(f['2020']),label='Volatility',color='r')\n",
    "fig.suptitle('AMZN')\n",
    "plt.legend()\n",
    "#fig.savefig('AMZN_GARCH.png')"
   ]
  },
  {
   "cell_type": "code",
   "execution_count": null,
   "metadata": {},
   "outputs": [],
   "source": []
  }
 ],
 "metadata": {
  "kernelspec": {
   "display_name": "Python 3",
   "language": "python",
   "name": "python3"
  },
  "language_info": {
   "codemirror_mode": {
    "name": "ipython",
    "version": 3
   },
   "file_extension": ".py",
   "mimetype": "text/x-python",
   "name": "python",
   "nbconvert_exporter": "python",
   "pygments_lexer": "ipython3",
   "version": "3.8.5"
  }
 },
 "nbformat": 4,
 "nbformat_minor": 4
}
